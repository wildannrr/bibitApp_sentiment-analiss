{
  "nbformat": 4,
  "nbformat_minor": 0,
  "metadata": {
    "colab": {
      "provenance": []
    },
    "kernelspec": {
      "name": "python3",
      "display_name": "Python 3"
    },
    "language_info": {
      "name": "python"
    }
  },
  "cells": [
    {
      "cell_type": "code",
      "execution_count": 1,
      "metadata": {
        "colab": {
          "base_uri": "https://localhost:8080/"
        },
        "id": "GuvHp5x6B3qh",
        "outputId": "02ec20f8-abf7-4ec0-b76a-db055f7eb4ac"
      },
      "outputs": [
        {
          "output_type": "stream",
          "name": "stdout",
          "text": [
            "Collecting google-play-scraper\n",
            "  Downloading google_play_scraper-1.2.7-py3-none-any.whl.metadata (50 kB)\n",
            "\u001b[?25l     \u001b[90m━━━━━━━━━━━━━━━━━━━━━━━━━━━━━━━━━━━━━━━━\u001b[0m \u001b[32m0.0/50.2 kB\u001b[0m \u001b[31m?\u001b[0m eta \u001b[36m-:--:--\u001b[0m\r\u001b[2K     \u001b[90m━━━━━━━━━━━━━━━━━━━━━━━━━━━━━━━━━━━━━━━━\u001b[0m \u001b[32m50.2/50.2 kB\u001b[0m \u001b[31m3.1 MB/s\u001b[0m eta \u001b[36m0:00:00\u001b[0m\n",
            "\u001b[?25hDownloading google_play_scraper-1.2.7-py3-none-any.whl (28 kB)\n",
            "Installing collected packages: google-play-scraper\n",
            "Successfully installed google-play-scraper-1.2.7\n"
          ]
        }
      ],
      "source": [
        "!pip install google-play-scraper"
      ]
    },
    {
      "cell_type": "code",
      "source": [
        "from google_play_scraper import Sort, reviews_all # untuk mengakses ulasan dan informasi dari google play store\n",
        "import csv"
      ],
      "metadata": {
        "id": "gGQIyquvCI-t"
      },
      "execution_count": 5,
      "outputs": []
    },
    {
      "cell_type": "markdown",
      "source": [
        "**SCRAPPING DATASET**"
      ],
      "metadata": {
        "id": "XKTNUPyACV9e"
      }
    },
    {
      "cell_type": "code",
      "source": [
        "# mengambil review pengguna aplikasi bibit\n",
        "scrapreview = reviews_all(\n",
        "    'com.bibit.bibitid',\n",
        "    lang='id',\n",
        "    country='id',\n",
        "    sort=Sort.MOST_RELEVANT,\n",
        "    count=130000\n",
        ")\n",
        "\n",
        "# membatasi scraping hanya 130.000 data ulasan\n",
        "scrapreview_limited = scrapreview[:130000]"
      ],
      "metadata": {
        "id": "0y17nU0SCUj6"
      },
      "execution_count": 3,
      "outputs": []
    },
    {
      "cell_type": "code",
      "source": [
        "with open('scrapping_bibit.csv', mode='w', newline='', encoding='utf-8') as file:\n",
        "    writer = csv.writer(file)\n",
        "    # Menulis header CSV\n",
        "    writer.writerow(['content','score'])\n",
        "\n",
        "    # Menulis tiap ulasan ke dalam file CSV\n",
        "    for review in scrapreview_limited:\n",
        "        writer.writerow([\n",
        "            review['content'],\n",
        "            review.get('score', '')\n",
        "        ])"
      ],
      "metadata": {
        "id": "X8cc_1evCTU9"
      },
      "execution_count": 4,
      "outputs": []
    }
  ]
}